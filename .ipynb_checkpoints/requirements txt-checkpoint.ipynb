{
 "cells": [
  {
   "cell_type": "markdown",
   "id": "ea227efb-2e56-45ba-b8ad-03728bc56968",
   "metadata": {},
   "source": [
    "# Requirements.txt"
   ]
  },
  {
   "cell_type": "markdown",
   "id": "b1e64edd-d57b-4c4c-92d4-8103be316d10",
   "metadata": {},
   "source": [
    "#### \n",
    "\n",
    "pandas\n",
    "\n",
    "numpy\n",
    "\n",
    "scikit-learn\n",
    "\n",
    "matplotlib\n",
    "\n",
    "seaborn\n",
    "\n",
    "shap\n",
    "\n",
    "lime\n"
   ]
  }
 ],
 "metadata": {
  "kernelspec": {
   "display_name": "Python 3 (ipykernel)",
   "language": "python",
   "name": "python3"
  },
  "language_info": {
   "codemirror_mode": {
    "name": "ipython",
    "version": 3
   },
   "file_extension": ".py",
   "mimetype": "text/x-python",
   "name": "python",
   "nbconvert_exporter": "python",
   "pygments_lexer": "ipython3",
   "version": "3.13.5"
  }
 },
 "nbformat": 4,
 "nbformat_minor": 5
}
